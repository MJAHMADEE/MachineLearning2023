{
  "nbformat": 4,
  "nbformat_minor": 0,
  "metadata": {
    "colab": {
      "provenance": [],
      "toc_visible": true
    },
    "kernelspec": {
      "name": "python3",
      "display_name": "Python 3"
    },
    "language_info": {
      "name": "python"
    }
  },
  "cells": [
    {
      "cell_type": "markdown",
      "source": [
        "**Problem 1:** Create a NumPy array of 20 random integers between 1 and 100. Calculate the mean, median, and standard deviation of the array."
      ],
      "metadata": {
        "id": "5jP9Bu4Ysx6g"
      }
    },
    {
      "cell_type": "code",
      "execution_count": null,
      "metadata": {
        "id": "We_SKcMhsxWZ"
      },
      "outputs": [],
      "source": []
    },
    {
      "cell_type": "markdown",
      "source": [
        "**Problem 2:** Create a Pandas DataFrame with three columns - 'Name', 'Age', and 'City' - and at least five rows of data. Perform a basic data exploration by displaying the first 3 rows, the last 2 rows, and a summary of statistics for the 'Age' column."
      ],
      "metadata": {
        "id": "-iiFwoVRs2s-"
      }
    },
    {
      "cell_type": "code",
      "source": [],
      "metadata": {
        "id": "TreuEe0Us4uO"
      },
      "execution_count": null,
      "outputs": []
    },
    {
      "cell_type": "markdown",
      "source": [
        "**Problem 3:** Create a bar chart using Matplotlib to visualize the following data: Monthly sales for a store (January to May). Use appropriate labels and titles for the chart."
      ],
      "metadata": {
        "id": "PNw-Io7Js0-Z"
      }
    },
    {
      "cell_type": "code",
      "source": [],
      "metadata": {
        "id": "0mLs7tD4s9q4"
      },
      "execution_count": null,
      "outputs": []
    },
    {
      "cell_type": "markdown",
      "source": [
        "**Problem 4:** Create two NumPy arrays, 'arr1' and 'arr2', both of size 5x5 with random integer values. Perform element-wise addition, subtraction, multiplication, and division between the two arrays."
      ],
      "metadata": {
        "id": "Lj1_pouqtBU1"
      }
    },
    {
      "cell_type": "code",
      "source": [],
      "metadata": {
        "id": "gK1BxnVRtA4t"
      },
      "execution_count": null,
      "outputs": []
    },
    {
      "cell_type": "markdown",
      "source": [
        "**Problem 5:** Given a Pandas DataFrame with information about employees, filter and display only the employees who are older than 30 years."
      ],
      "metadata": {
        "id": "kii_k_K7tE1S"
      }
    },
    {
      "cell_type": "code",
      "source": [],
      "metadata": {
        "id": "2tjtwMK5tLkW"
      },
      "execution_count": null,
      "outputs": []
    },
    {
      "cell_type": "markdown",
      "source": [
        "**Problem 6:** Create a scatter plot using Matplotlib to visualize a dataset of 100 random (x, y) coordinates. Label the axes appropriately and give the plot a title."
      ],
      "metadata": {
        "id": "nWkeN_kxtNar"
      }
    },
    {
      "cell_type": "code",
      "source": [],
      "metadata": {
        "id": "kVctGlqwtSwd"
      },
      "execution_count": null,
      "outputs": []
    },
    {
      "cell_type": "markdown",
      "source": [
        "**Problem 7:** Create two NumPy matrices, 'matrix1' (2x3) and 'matrix2' (3x4), with random values. Perform matrix multiplication between the two matrices."
      ],
      "metadata": {
        "id": "ex6ZssoNtUn-"
      }
    },
    {
      "cell_type": "code",
      "source": [],
      "metadata": {
        "id": "HKWDmVICtVuX"
      },
      "execution_count": null,
      "outputs": []
    },
    {
      "cell_type": "markdown",
      "source": [
        "**Problem 8:** Given a Pandas DataFrame containing sales data, calculate and display the total sales for each product category."
      ],
      "metadata": {
        "id": "I_A6rPt8tYHF"
      }
    },
    {
      "cell_type": "code",
      "source": [],
      "metadata": {
        "id": "blNHInhXtbX_"
      },
      "execution_count": null,
      "outputs": []
    },
    {
      "cell_type": "markdown",
      "source": [
        "**Problem 9:** Create a line chart using Matplotlib to visualize the population growth of a city over 10 years. Label the axes and provide a title."
      ],
      "metadata": {
        "id": "mtFKN7CStmr5"
      }
    },
    {
      "cell_type": "code",
      "source": [],
      "metadata": {
        "id": "-_O7t-titn_I"
      },
      "execution_count": null,
      "outputs": []
    },
    {
      "cell_type": "markdown",
      "source": [
        "**Problem 10:** Given a Pandas DataFrame containing information about students, add a new column 'Grade' based on the following criteria:\n",
        "* If 'Score' >= 90, Grade is 'A'\n",
        "* If 'Score' >= 80, Grade is 'B'\n",
        "* If 'Score' >= 70, Grade is 'C'\n",
        "* If 'Score' < 70, Grade is 'D'"
      ],
      "metadata": {
        "id": "nPWzdcGFtrHS"
      }
    },
    {
      "cell_type": "code",
      "source": [],
      "metadata": {
        "id": "L4cEUfKAtz_D"
      },
      "execution_count": null,
      "outputs": []
    },
    {
      "cell_type": "markdown",
      "source": [
        "**Problem 11:** You are given a dataset containing monthly sales data for three products (A, B, and C) over a two-year period. Your task is to perform various data analysis tasks using NumPy, Pandas, and Matplotlib.\n",
        "\n",
        "\n",
        "*   Dataset:\n",
        "\n",
        "```\n",
        "import pandas as pd\n",
        "\n",
        "data = {\n",
        "    'Month': pd.date_range(start='2021-01-01', periods=24, freq='M'),\n",
        "    'Product A Sales': [500, 480, 600, 750, 900, 850, 920, 1100, 1300, 1350, 1500, 1450, 1550, 1600, 1650, 1600, 1500, 1400, 1600, 1700, 1800, 1750, 1850, 1900],\n",
        "    'Product B Sales': [300, 320, 400, 450, 500, 580, 700, 750, 820, 900, 950, 980, 1050, 1100, 1150, 1200, 1250, 1300, 1350, 1400, 1500, 1600, 1550, 1700],\n",
        "    'Product C Sales': [200, 210, 250, 280, 320, 350, 380, 400, 420, 440, 460, 480, 500, 520, 540, 560, 580, 600, 620, 640, 660, 680, 700, 720]\n",
        "}\n",
        "\n",
        "sales_df = pd.DataFrame(data)\n",
        "```\n",
        "*  Tasks:\n",
        "1. Calculate and display the total sales for each product over the two-year period.\n",
        "\n",
        "2. Calculate and display the average monthly sales for each product.\n",
        "\n",
        "3. Find the month with the highest sales for each product, and display the product and the sales value for that month.\n",
        "\n",
        "4. Calculate and display the percentage change in sales for each product from January to December in the second year (2022).\n",
        "\n",
        "5. Create a line chart using Matplotlib to visualize the monthly sales data for each product over the two-year period. Label the axes and provide a title for the chart.\n",
        "\n",
        "6. Calculate the correlation between Product A and Product B sales. Is there a strong correlation between these two products? Display the correlation coefficient.\n"
      ],
      "metadata": {
        "id": "ghA9GbcCuZIs"
      }
    },
    {
      "cell_type": "code",
      "source": [],
      "metadata": {
        "id": "9NOWYCddvHyY"
      },
      "execution_count": null,
      "outputs": []
    }
  ]
}