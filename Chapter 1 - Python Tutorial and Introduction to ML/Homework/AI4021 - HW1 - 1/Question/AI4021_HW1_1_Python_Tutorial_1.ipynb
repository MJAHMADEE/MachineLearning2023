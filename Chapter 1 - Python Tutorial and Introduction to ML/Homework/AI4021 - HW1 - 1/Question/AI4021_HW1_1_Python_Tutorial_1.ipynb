{
  "nbformat": 4,
  "nbformat_minor": 0,
  "metadata": {
    "colab": {
      "provenance": []
    },
    "kernelspec": {
      "name": "python3",
      "display_name": "Python 3"
    },
    "language_info": {
      "name": "python"
    }
  },
  "cells": [
    {
      "cell_type": "markdown",
      "source": [
        "**Question 1:** Write a Python program that asks the user for their age. If the age is greater than or equal to 18, print \"You are an adult.\" Otherwise, print \"You are a minor.\""
      ],
      "metadata": {
        "id": "6_vl9BFfOXWG"
      }
    },
    {
      "cell_type": "code",
      "source": [],
      "metadata": {
        "colab": {
          "base_uri": "https://localhost:8080/"
        },
        "id": "CAbJIkUPOcQs",
        "outputId": "fcf7bb79-74fe-4622-976b-4375f939226c"
      },
      "execution_count": null,
      "outputs": [
        {
          "output_type": "stream",
          "name": "stdout",
          "text": [
            "Enter your age: 20\n",
            "You are an adult.\n"
          ]
        }
      ]
    },
    {
      "cell_type": "markdown",
      "source": [
        "**Question 2:** Write a Python program to print the numbers from 1 to 10 using a for loop."
      ],
      "metadata": {
        "id": "r_W1sWoQOezD"
      }
    },
    {
      "cell_type": "code",
      "source": [],
      "metadata": {
        "colab": {
          "base_uri": "https://localhost:8080/"
        },
        "id": "__o_-ZodOhbo",
        "outputId": "cb7062c7-8392-4041-8209-6336e12cf944"
      },
      "execution_count": null,
      "outputs": [
        {
          "output_type": "stream",
          "name": "stdout",
          "text": [
            "1\n",
            "2\n",
            "3\n",
            "4\n",
            "5\n",
            "6\n",
            "7\n",
            "8\n",
            "9\n",
            "10\n"
          ]
        }
      ]
    },
    {
      "cell_type": "markdown",
      "source": [
        "**Question 3:** Write a Python program to calculate the sum of all even numbers from 1 to 20 using a while loop."
      ],
      "metadata": {
        "id": "2q7OyBe_Oiud"
      }
    },
    {
      "cell_type": "code",
      "source": [],
      "metadata": {
        "colab": {
          "base_uri": "https://localhost:8080/"
        },
        "id": "r3uY0I6GOlB3",
        "outputId": "2fecc6ab-4701-43ef-fa5e-620c8cef6422"
      },
      "execution_count": null,
      "outputs": [
        {
          "output_type": "stream",
          "name": "stdout",
          "text": [
            "Sum of even numbers from 1 to 20: 110\n"
          ]
        }
      ]
    },
    {
      "cell_type": "markdown",
      "source": [
        "**Question 4:** Define a function called multiply that takes two parameters and returns their product."
      ],
      "metadata": {
        "id": "YZprv77SOowG"
      }
    },
    {
      "cell_type": "code",
      "source": [],
      "metadata": {
        "id": "6Y0USeerOrUN"
      },
      "execution_count": null,
      "outputs": []
    },
    {
      "cell_type": "markdown",
      "source": [
        "**Question 5:** Create a class called Person with a constructor method that initializes the name and age attributes. Then, create an instance of the Person class and print the person's name and age."
      ],
      "metadata": {
        "id": "0GOwbOCPOtBN"
      }
    },
    {
      "cell_type": "code",
      "source": [],
      "metadata": {
        "colab": {
          "base_uri": "https://localhost:8080/"
        },
        "id": "WcAY-oMeOv1v",
        "outputId": "c06c201e-d129-46c1-a8d1-b45bca921688"
      },
      "execution_count": null,
      "outputs": [
        {
          "output_type": "stream",
          "name": "stdout",
          "text": [
            "Name: Alice\n",
            "Age: 25\n"
          ]
        }
      ]
    },
    {
      "cell_type": "markdown",
      "source": [
        "**Question 6:** Create a subclass called `Student` that inherits from the `Person` class. Add an additional attribute called `student_id` to the `Student` class. Create an instance of the `Student` class and print the student's name, age, and student ID."
      ],
      "metadata": {
        "id": "JMq7nrdROxIF"
      }
    },
    {
      "cell_type": "code",
      "source": [],
      "metadata": {
        "colab": {
          "base_uri": "https://localhost:8080/"
        },
        "id": "vpEpTshwO8Xi",
        "outputId": "aadde584-60dc-4527-cf5a-e719459cadfd"
      },
      "execution_count": null,
      "outputs": [
        {
          "output_type": "stream",
          "name": "stdout",
          "text": [
            "Name: Bob\n",
            "Age: 20\n",
            "Student ID: 12345\n"
          ]
        }
      ]
    },
    {
      "cell_type": "markdown",
      "source": [
        "**Question 7:** Write a Python program that prompts the user to enter a number and then prints whether the number is prime or not. Create a function called `is_prime` that takes an integer as an argument and returns True if it's prime, and False otherwise."
      ],
      "metadata": {
        "id": "5TxkMVTOPIRF"
      }
    },
    {
      "cell_type": "code",
      "source": [],
      "metadata": {
        "colab": {
          "base_uri": "https://localhost:8080/"
        },
        "id": "UELQoZzKPNLm",
        "outputId": "48071390-2ed1-4599-d060-f1a9fde51531"
      },
      "execution_count": null,
      "outputs": [
        {
          "output_type": "stream",
          "name": "stdout",
          "text": [
            "Enter a number: 13\n",
            "13 is a prime number.\n"
          ]
        }
      ]
    },
    {
      "cell_type": "markdown",
      "source": [
        "**Question 8:** Write a Python program that calculates the factorial of a given number using a recursive function. Prompt the user for an integer input and print its factorial."
      ],
      "metadata": {
        "id": "HR0mHW5nPP-l"
      }
    },
    {
      "cell_type": "code",
      "source": [],
      "metadata": {
        "colab": {
          "base_uri": "https://localhost:8080/"
        },
        "id": "gm5j51vlPS4y",
        "outputId": "b815b0dd-d80d-4c5b-d97a-89a7e2e1fa14"
      },
      "execution_count": null,
      "outputs": [
        {
          "output_type": "stream",
          "name": "stdout",
          "text": [
            "Enter an integer: 10\n",
            "Factorial of 10 is 3628800\n"
          ]
        }
      ]
    },
    {
      "cell_type": "markdown",
      "source": [
        "**Question 9:** Create a class called `Rectangle` with attributes `width` and `height`. Add a method `calculate_area` that calculates and returns the area of the rectangle. Create an instance of the `Rectangle` class and print its area."
      ],
      "metadata": {
        "id": "KgQI1zFkPcRb"
      }
    },
    {
      "cell_type": "code",
      "source": [],
      "metadata": {
        "colab": {
          "base_uri": "https://localhost:8080/"
        },
        "id": "S2yIbrGMPUHN",
        "outputId": "4e21ff09-e1be-4113-da16-4145ebf44982"
      },
      "execution_count": null,
      "outputs": [
        {
          "output_type": "stream",
          "name": "stdout",
          "text": [
            "Area of the rectangle: 40\n"
          ]
        }
      ]
    },
    {
      "cell_type": "markdown",
      "source": [
        "**Question 10:** Create a subclass called `Square` that inherits from the `Rectangle` class. Add a method `calculate_perimeter` to the `Square` class that calculates and returns the perimeter of the square. Create an instance of the `Square` class and print its perimeter."
      ],
      "metadata": {
        "id": "hZJpUWXiPnUy"
      }
    },
    {
      "cell_type": "code",
      "source": [],
      "metadata": {
        "colab": {
          "base_uri": "https://localhost:8080/"
        },
        "id": "rrvDKau6Prgv",
        "outputId": "d9d9b84b-bc1e-4ea0-ca2b-6ef33333a130"
      },
      "execution_count": null,
      "outputs": [
        {
          "output_type": "stream",
          "name": "stdout",
          "text": [
            "Perimeter of the square: 16\n"
          ]
        }
      ]
    },
    {
      "cell_type": "markdown",
      "source": [
        "**Question 11:** Create a base class called `Animal` with attributes `name` and `species`. Provide a constructor to initialize these attributes and a method called `speak` that prints a generic message like \"The animal makes a sound.\""
      ],
      "metadata": {
        "id": "bAvC4oKdPySI"
      }
    },
    {
      "cell_type": "code",
      "source": [],
      "metadata": {
        "id": "ReV5Ul0ZP-n7"
      },
      "execution_count": null,
      "outputs": []
    },
    {
      "cell_type": "markdown",
      "source": [
        "**Question 12:** Create a subclass called `Dog` that inherits from the `Animal` class. Add a constructor to initialize the `name`, `species`, and `breed` attributes specific to dogs. Override the `speak` method in the `Dog` class to print \"Woof!\""
      ],
      "metadata": {
        "id": "B27SF_YbQANC"
      }
    },
    {
      "cell_type": "code",
      "source": [],
      "metadata": {
        "id": "3Gn8dy-QQIGA"
      },
      "execution_count": null,
      "outputs": []
    },
    {
      "cell_type": "markdown",
      "source": [
        "**Question 13:** Create another subclass called `Cat` that inherits from the `Animal` class. Add a constructor to initialize the `name`, `species`, and `color` attributes specific to cats. Override the `speak` method in the `Cat` class to print \"Meow!\""
      ],
      "metadata": {
        "id": "evEYwP3GQKHU"
      }
    },
    {
      "cell_type": "code",
      "source": [],
      "metadata": {
        "id": "OOuq8AP2QT9W"
      },
      "execution_count": null,
      "outputs": []
    },
    {
      "cell_type": "markdown",
      "source": [
        "**Question 14:** Create instances of both the `Dog` and `Cat` classes and call their `speak` methods to demonstrate polymorphism."
      ],
      "metadata": {
        "id": "FPiIuweTQU0D"
      }
    },
    {
      "cell_type": "code",
      "source": [],
      "metadata": {
        "colab": {
          "base_uri": "https://localhost:8080/"
        },
        "id": "YmUNsj72QZ4z",
        "outputId": "3d25f468-368d-47f8-90f1-5ca32bb86119"
      },
      "execution_count": null,
      "outputs": [
        {
          "output_type": "stream",
          "name": "stdout",
          "text": [
            "Buddy the Golden Retriever says Woof!\n",
            "Whiskers the Calico cat says Meow!\n"
          ]
        }
      ]
    }
  ]
}