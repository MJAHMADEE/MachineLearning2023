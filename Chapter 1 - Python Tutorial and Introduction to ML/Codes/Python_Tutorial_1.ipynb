{
  "cells": [
    {
      "cell_type": "markdown",
      "metadata": {
        "id": "K9LNGk5dXK6d"
      },
      "source": [
        "# Python Tutorial 1\n",
        "[![GitHub Repo](https://img.shields.io/github/stars/MJAHMADEE/MachineLearning2023?style=social)](https://github.com/MJAHMADEE/MachineLearning2023) - Course materials and assignments for the Machine Learning course."
      ]
    },
    {
      "cell_type": "markdown",
      "metadata": {
        "id": "OIudjOVTXK6e"
      },
      "source": [
        "## Python Basics"
      ]
    },
    {
      "cell_type": "code",
      "execution_count": null,
      "metadata": {
        "colab": {
          "base_uri": "https://localhost:8080/"
        },
        "id": "xOVnlgJXXK6f",
        "outputId": "8b1f7a78-e0e0-4067-80b5-b601b244cb12"
      },
      "outputs": [
        {
          "output_type": "stream",
          "name": "stdout",
          "text": [
            "Value of x: 5\n",
            "Value of y: Hello\n",
            "Values of a, b, c: 1 two 3.0\n"
          ]
        }
      ],
      "source": [
        "# Single-line comment explaining the purpose of the code\n",
        "\n",
        "\"\"\"\n",
        "This is a\n",
        "multi-line\n",
        "comment\n",
        "explaining more details about the code.\n",
        "\"\"\"\n",
        "\n",
        "# Variable assignment\n",
        "x = 5\n",
        "y = \"Hello\"\n",
        "\n",
        "# Multiple variable assignment\n",
        "a, b, c = 1, \"two\", 3.0\n",
        "\n",
        "# Printing variables\n",
        "print(\"Value of x:\", x)\n",
        "print(\"Value of y:\", y)\n",
        "print(\"Values of a, b, c:\", a, b, c)"
      ]
    },
    {
      "cell_type": "code",
      "execution_count": null,
      "metadata": {
        "colab": {
          "base_uri": "https://localhost:8080/"
        },
        "id": "QPUamSedXK6g",
        "outputId": "b0d919f4-3137-403f-d1ac-a4bdd89ea8ee"
      },
      "outputs": [
        {
          "output_type": "stream",
          "name": "stdout",
          "text": [
            "Greeting: Hello, Alice\n"
          ]
        }
      ],
      "source": [
        "# Variable assignment for integers and floats\n",
        "integer_value = 1\n",
        "float_value = 2.5\n",
        "\n",
        "# Variable assignment for strings\n",
        "name = \"Alice\"\n",
        "greeting = f\"Hello, {name}\"  # Using f-strings for string formatting\n",
        "print(\"Greeting:\", greeting)  # Added a label to the print statement\n",
        "\n",
        "# Variable assignment for booleans\n",
        "is_true = True\n",
        "is_false = False\n",
        "\n",
        "# Variable assignment for None\n",
        "empty_value = None"
      ]
    },
    {
      "cell_type": "code",
      "execution_count": null,
      "metadata": {
        "colab": {
          "base_uri": "https://localhost:8080/"
        },
        "id": "da8fSE7QXK6h",
        "outputId": "d9126c68-214c-440a-df04-14a746c55109"
      },
      "outputs": [
        {
          "output_type": "stream",
          "name": "stdout",
          "text": [
            "x is less than or equal to 10\n",
            "y is between 10 and 19\n"
          ]
        }
      ],
      "source": [
        "# If-else statement\n",
        "x = 5\n",
        "if x > 10:\n",
        "    print(\"x is greater than 10\")\n",
        "else:\n",
        "    print(\"x is less than or equal to 10\")\n",
        "\n",
        "# If-elif-else statement\n",
        "y = 15\n",
        "if y < 10:\n",
        "    print(\"y is less than 10\")\n",
        "elif 10 <= y < 20:\n",
        "    print(\"y is between 10 and 19\")\n",
        "else:\n",
        "    print(\"y is greater than or equal to 20\")"
      ]
    },
    {
      "cell_type": "code",
      "execution_count": null,
      "metadata": {
        "colab": {
          "base_uri": "https://localhost:8080/"
        },
        "id": "rRxXNiIpXK6h",
        "outputId": "a1a1b527-f4d7-479a-bfd7-148a4504534e"
      },
      "outputs": [
        {
          "output_type": "stream",
          "name": "stdout",
          "text": [
            "For loop:\n",
            "1\n",
            "2\n",
            "3\n",
            "4\n",
            "5\n",
            "\n",
            "While loop:\n",
            "1\n",
            "2\n",
            "3\n",
            "4\n",
            "5\n",
            "\n",
            "Loop that iterates over a list:\n",
            "apple\n",
            "banana\n",
            "cherry\n",
            "List of fruits: ['apple', 'banana', 'cherry']\n",
            "\n",
            "Using list comprehension to print elements:\n",
            "apple\n",
            "banana\n",
            "cherry\n"
          ]
        },
        {
          "output_type": "execute_result",
          "data": {
            "text/plain": [
              "[None, None, None]"
            ]
          },
          "metadata": {},
          "execution_count": 8
        }
      ],
      "source": [
        "# For loop example\n",
        "print(\"For loop:\")\n",
        "for i in range(1, 6):\n",
        "    print(i)\n",
        "\n",
        "# While loop example\n",
        "print(\"\\nWhile loop:\")\n",
        "j = 1\n",
        "while j < 6:\n",
        "    print(j)\n",
        "    j += 1\n",
        "\n",
        "# Loop that iterates over a list\n",
        "fruits = [\"apple\", \"banana\", \"cherry\"]\n",
        "print(\"\\nLoop that iterates over a list:\")\n",
        "for fruit in fruits:\n",
        "    print(fruit)\n",
        "print(\"List of fruits:\", fruits)\n",
        "\n",
        "# Using list comprehension for printing elements\n",
        "print(\"\\nUsing list comprehension to print elements:\")\n",
        "[print(x) for x in fruits]"
      ]
    },
    {
      "cell_type": "code",
      "execution_count": null,
      "metadata": {
        "colab": {
          "base_uri": "https://localhost:8080/"
        },
        "id": "o2HXnqiiXK6j",
        "outputId": "550ba745-d2c5-47c6-e91f-35ce17faf4e9"
      },
      "outputs": [
        {
          "output_type": "stream",
          "name": "stdout",
          "text": [
            "First element: 1\n",
            "Third element: 3\n",
            "Last element: 5\n",
            "Sliced sublist: [2, 3]\n",
            "Sliced sublist: [1, 2, 3, 4]\n",
            "Updated list: ['Asghar', 'Mammad', 'Alice', 'Mammad', 4, 5, 6]\n",
            "List after removal: ['Asghar', 'Alice', 'Mammad', 4, 5, 6]\n",
            "Length of the list: 6\n"
          ]
        }
      ],
      "source": [
        "# Create a list of integers\n",
        "my_list = [1, 2, 3, 4, 5]\n",
        "\n",
        "# Accessing elements of the list\n",
        "print(\"First element:\", my_list[0])  # Output: 1\n",
        "print(\"Third element:\", my_list[2])  # Output: 3\n",
        "print(\"Last element:\", my_list[-1])  # Output: 5\n",
        "\n",
        "# Slicing the list\n",
        "print(\"Sliced sublist:\", my_list[1:3])  # Output: [2, 3]\n",
        "print(\"Sliced sublist:\", my_list[:4])  # Output: [1, 2, 3, 4]\n",
        "\n",
        "# Adding elements to the list\n",
        "my_list.append(6)\n",
        "my_list.insert(0, \"Asghar\")\n",
        "\n",
        "# Changing list elements\n",
        "my_list[1:4] = [\"Mammad\", \"Alice\", \"Mammad\"]\n",
        "print(\"Updated list:\", my_list)\n",
        "\n",
        "# Removing an element from the list\n",
        "my_list.remove(\"Mammad\")\n",
        "print(\"List after removal:\", my_list)\n",
        "\n",
        "# Length of the list\n",
        "print(\"Length of the list:\", len(my_list))  # Output: 6"
      ]
    },
    {
      "cell_type": "code",
      "execution_count": null,
      "metadata": {
        "colab": {
          "base_uri": "https://localhost:8080/"
        },
        "id": "ilXlTAuiXK6j",
        "outputId": "48f0990b-37b5-4c1b-cbb6-ce1e60a925c7"
      },
      "outputs": [
        {
          "output_type": "stream",
          "name": "stdout",
          "text": [
            "First element: 1\n",
            "Third element: 3\n",
            "Sliced tuple: (2, 3)\n",
            "Merged list: [6, 7, 8, 1, 2, 3, 4, 5]\n"
          ]
        }
      ],
      "source": [
        "# Creating a tuple\n",
        "my_tuple = (1, 2, 3, 4, 5)\n",
        "\n",
        "# Accessing elements of the tuple\n",
        "print(\"First element:\", my_tuple[0])  # Output: 1\n",
        "print(\"Third element:\", my_tuple[2])  # Output: 3\n",
        "\n",
        "# Slicing the tuple\n",
        "print(\"Sliced tuple:\", my_tuple[1:3])  # Output: (2, 3)\n",
        "\n",
        "# Tuples are immutable, so attempting to modify an element will raise an error\n",
        "# my_tuple[0] = 6  # This will raise a TypeError\n",
        "\n",
        "# Merging a list and a tuple\n",
        "my_list = [6, 7, 8]\n",
        "merged_list = my_list + list(my_tuple)  # Convert tuple to a list for merging\n",
        "print(\"Merged list:\", merged_list)"
      ]
    },
    {
      "cell_type": "code",
      "execution_count": null,
      "metadata": {
        "colab": {
          "base_uri": "https://localhost:8080/"
        },
        "id": "k7WF35aLXK6j",
        "outputId": "10224991-3cd5-4b61-9924-44b484052997"
      },
      "outputs": [
        {
          "output_type": "stream",
          "name": "stdout",
          "text": [
            "Name: John\n",
            "Age: 30\n",
            "Dictionary length: 3\n"
          ]
        }
      ],
      "source": [
        "# Creating a dictionary to store information about a person\n",
        "my_dict = {\n",
        "    'name': 'John',\n",
        "    'age': 30,\n",
        "    'city': 'New York'\n",
        "}\n",
        "\n",
        "# Accessing values in the dictionary\n",
        "print(\"Name:\", my_dict['name'])  # Output: John\n",
        "print(\"Age:\", my_dict['age'])    # Output: 30\n",
        "\n",
        "# Adding a new key-value pair to the dictionary\n",
        "my_dict['gender'] = 'Male'\n",
        "\n",
        "# Removing a key-value pair from the dictionary\n",
        "del my_dict['city']\n",
        "\n",
        "# Length of the dictionary\n",
        "print(\"Dictionary length:\", len(my_dict))  # Output: 2"
      ]
    },
    {
      "cell_type": "code",
      "execution_count": null,
      "metadata": {
        "colab": {
          "base_uri": "https://localhost:8080/"
        },
        "id": "e8LlzqEvXK6k",
        "outputId": "ee9e4440-3285-4ff6-bf4a-cee52cffc57d"
      },
      "outputs": [
        {
          "output_type": "stream",
          "name": "stdout",
          "text": [
            "Set length: 5\n"
          ]
        }
      ],
      "source": [
        "# Create a set containing integers\n",
        "my_set = {1, 2, 3, 4, 5}\n",
        "\n",
        "# Add an element to the set\n",
        "my_set.add(6)\n",
        "\n",
        "# Remove an element from the set\n",
        "my_set.remove(3)\n",
        "\n",
        "# Calculate and print the length of the set\n",
        "print(\"Set length:\", len(my_set))  # Output: 5"
      ]
    },
    {
      "cell_type": "code",
      "execution_count": null,
      "metadata": {
        "colab": {
          "base_uri": "https://localhost:8080/"
        },
        "id": "6zcvhW3VXK6h",
        "outputId": "b05398d9-d497-4e7d-a1d5-f95dd63e8264"
      },
      "outputs": [
        {
          "output_type": "stream",
          "name": "stdout",
          "text": [
            "Hello, Alice\n",
            "Hello, world\n",
            "Hello, Alice\n"
          ]
        }
      ],
      "source": [
        "# Define a function to greet a person by name\n",
        "def greet(name):\n",
        "    \"\"\"\n",
        "    Greets a person by name.\n",
        "\n",
        "    Args:\n",
        "        name (str): The name of the person to greet.\n",
        "    \"\"\"\n",
        "    print(\"Hello, \" + name)\n",
        "\n",
        "# Call the greet function with a specific name\n",
        "greet(\"Alice\")\n",
        "\n",
        "# Define a function with a default argument\n",
        "def greet(name=\"world\"):\n",
        "    \"\"\"\n",
        "    Greets a person by name or \"world\" if no name is provided.\n",
        "\n",
        "    Args:\n",
        "        name (str, optional): The name of the person to greet. Defaults to \"world\".\n",
        "    \"\"\"\n",
        "    print(\"Hello, \" + name)\n",
        "\n",
        "# Call the greet function with different names\n",
        "greet()  # Prints \"Hello, world\"\n",
        "greet(\"Alice\")  # Prints \"Hello, Alice\"\n"
      ]
    },
    {
      "cell_type": "code",
      "execution_count": null,
      "metadata": {
        "colab": {
          "base_uri": "https://localhost:8080/"
        },
        "id": "AukBjtruXK6h",
        "outputId": "2d410cc3-43bb-4b73-ad02-6effb3dd2769"
      },
      "outputs": [
        {
          "output_type": "stream",
          "name": "stdout",
          "text": [
            "Hello, my name is Alice\n"
          ]
        }
      ],
      "source": [
        "# Define a class for representing a person\n",
        "class Person:\n",
        "    def __init__(self, name, age):\n",
        "        \"\"\"\n",
        "        Initialize a Person object with a name and age.\n",
        "\n",
        "        Args:\n",
        "            name (str): The name of the person.\n",
        "            age (int): The age of the person.\n",
        "        \"\"\"\n",
        "        self.name = name\n",
        "        self.age = age\n",
        "\n",
        "    def say_hello(self):\n",
        "        \"\"\"\n",
        "        Print a greeting with the person's name.\n",
        "        \"\"\"\n",
        "        print(\"Hello, my name is \" + self.name)\n",
        "\n",
        "# Create an instance of the Person class\n",
        "person1 = Person(\"Alice\", 25)\n",
        "\n",
        "# Call a method on the instance to greet\n",
        "person1.say_hello()"
      ]
    },
    {
      "cell_type": "code",
      "source": [
        "# Define a class for representing a person\n",
        "class Person:\n",
        "    def __init__(self, name, age):\n",
        "        \"\"\"\n",
        "        Initialize a Person object with a name and age.\n",
        "\n",
        "        Args:\n",
        "            name (str): The name of the person.\n",
        "            age (int): The age of the person.\n",
        "        \"\"\"\n",
        "        self.name = name\n",
        "        self.age = age\n",
        "\n",
        "    def say_hello(self):\n",
        "        \"\"\"\n",
        "        Print a greeting with the person's name.\n",
        "        \"\"\"\n",
        "        print(\"Hello, my name is \" + self.name)\n",
        "\n",
        "# Define a subclass called Student that inherits from Person\n",
        "class Student(Person):\n",
        "    def __init__(self, name, age, student_id):\n",
        "        \"\"\"\n",
        "        Initialize a Student object with a name, age, and student ID.\n",
        "\n",
        "        Args:\n",
        "            name (str): The name of the student.\n",
        "            age (int): The age of the student.\n",
        "            student_id (str): The student ID of the student.\n",
        "        \"\"\"\n",
        "        super().__init__(name, age)\n",
        "        self.student_id = student_id\n",
        "\n",
        "    def study(self, subject):\n",
        "        \"\"\"\n",
        "        Print a message indicating that the student is studying a subject.\n",
        "\n",
        "        Args:\n",
        "            subject (str): The subject the student is studying.\n",
        "        \"\"\"\n",
        "        print(self.name + \" is studying \" + subject)\n",
        "\n",
        "# Create an instance of the Person class\n",
        "person1 = Person(\"Alice\", 25)\n",
        "\n",
        "# Call a method on the Person instance to greet\n",
        "person1.say_hello()\n",
        "\n",
        "# Create an instance of the Student class\n",
        "student1 = Student(\"Bob\", 20, \"12345\")\n",
        "\n",
        "# Call a method on the Student instance to greet\n",
        "student1.say_hello()\n",
        "\n",
        "# Call a method specific to the Student class\n",
        "student1.study(\"Math\")"
      ],
      "metadata": {
        "colab": {
          "base_uri": "https://localhost:8080/"
        },
        "id": "PFFEA0gZTDyt",
        "outputId": "6837bb79-fbe3-4c5d-aa8e-dbb86ec9e012"
      },
      "execution_count": null,
      "outputs": [
        {
          "output_type": "stream",
          "name": "stdout",
          "text": [
            "Hello, my name is Alice\n",
            "Hello, my name is Bob\n",
            "Bob is studying Math\n"
          ]
        }
      ]
    },
    {
      "cell_type": "code",
      "execution_count": null,
      "metadata": {
        "colab": {
          "base_uri": "https://localhost:8080/"
        },
        "id": "tFVyR_NzXK6i",
        "outputId": "a443b779-9a53-4200-97ae-115fe840c459"
      },
      "outputs": [
        {
          "output_type": "stream",
          "name": "stdout",
          "text": [
            "Is 2 in the set?  True\n"
          ]
        }
      ],
      "source": [
        "# Define a set of numbers\n",
        "numbers = {1, 2, 3, 4, 5}\n",
        "\n",
        "# Check if 2 is in the set\n",
        "is_2_in_numbers = 2 in numbers\n",
        "\n",
        "# Print the result\n",
        "print(\"Is 2 in the set? \", is_2_in_numbers)  # Output: True"
      ]
    },
    {
      "cell_type": "code",
      "execution_count": null,
      "metadata": {
        "colab": {
          "base_uri": "https://localhost:8080/"
        },
        "id": "mT3kwGigXK6i",
        "outputId": "8cb45dcb-4808-40e1-eeaf-ae7a62c8c063"
      },
      "outputs": [
        {
          "output_type": "stream",
          "name": "stdout",
          "text": [
            "Age: 25\n",
            "Person information: {'name': 'John', 'age': 25, 'gender': 'Male', 'city': 'New York'}\n"
          ]
        }
      ],
      "source": [
        "# Define a dictionary to store information about a person\n",
        "person = {\n",
        "    \"name\": \"John\",\n",
        "    \"age\": 25,\n",
        "    \"gender\": \"Male\"\n",
        "}\n",
        "\n",
        "# Access and print the person's age\n",
        "print(\"Age:\", person[\"age\"])  # Output: 25\n",
        "\n",
        "# Add the person's city to the dictionary\n",
        "person[\"city\"] = \"New York\"\n",
        "\n",
        "# Print the updated person dictionary\n",
        "print(\"Person information:\", person)\n",
        "# Output: {\"name\": \"John\", \"age\": 25, \"gender\": \"Male\", \"city\": \"New York\"}"
      ]
    }
  ],
  "metadata": {
    "kernelspec": {
      "display_name": "base",
      "language": "python",
      "name": "python3"
    },
    "language_info": {
      "codemirror_mode": {
        "name": "ipython",
        "version": 3
      },
      "file_extension": ".py",
      "mimetype": "text/x-python",
      "name": "python",
      "nbconvert_exporter": "python",
      "pygments_lexer": "ipython3",
      "version": "3.8.8"
    },
    "orig_nbformat": 4,
    "vscode": {
      "interpreter": {
        "hash": "240a9eba56af4ccccc022e914092f0a08053872f577c5356692d82fa4c2f7f48"
      }
    },
    "colab": {
      "provenance": [],
      "toc_visible": true
    }
  },
  "nbformat": 4,
  "nbformat_minor": 0
}