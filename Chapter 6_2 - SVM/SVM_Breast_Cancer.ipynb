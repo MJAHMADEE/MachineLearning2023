{
 "cells": [
  {
   "cell_type": "code",
   "execution_count": 11,
   "metadata": {
    "collapsed": true
   },
   "outputs": [],
   "source": [
    "import pandas as pd\n",
    "import numpy as np\n",
    "import matplotlib.pyplot as plt\n",
    "import seaborn as sns\n",
    "%matplotlib inline"
   ]
  },
  {
   "cell_type": "code",
   "execution_count": 12,
   "metadata": {
    "collapsed": true
   },
   "outputs": [],
   "source": [
    "from sklearn.datasets import load_breast_cancer"
   ]
  },
  {
   "cell_type": "code",
   "execution_count": 16,
   "metadata": {
    "collapsed": true
   },
   "outputs": [],
   "source": [
    "cancer = load_breast_cancer()"
   ]
  },
  {
   "cell_type": "code",
   "execution_count": 17,
   "metadata": {
    "collapsed": false
   },
   "outputs": [
    {
     "data": {
      "text/plain": [
       "['target_names', 'data', 'target', 'DESCR', 'feature_names']"
      ]
     },
     "execution_count": 17,
     "metadata": {},
     "output_type": "execute_result"
    }
   ],
   "source": [
    "cancer.keys()"
   ]
  },
  {
   "cell_type": "code",
   "execution_count": 22,
   "metadata": {
    "collapsed": false
   },
   "outputs": [
    {
     "name": "stdout",
     "output_type": "stream",
     "text": [
      "Breast Cancer Wisconsin (Diagnostic) Database\n",
      "\n",
      "Notes\n",
      "-----\n",
      "Data Set Characteristics:\n",
      "    :Number of Instances: 569\n",
      "\n",
      "    :Number of Attributes: 30 numeric, predictive attributes and the class\n",
      "\n",
      "    :Attribute Information:\n",
      "        - radius (mean of distances from center to points on the perimeter)\n",
      "        - texture (standard deviation of gray-scale values)\n",
      "        - perimeter\n",
      "        - area\n",
      "        - smoothness (local variation in radius lengths)\n",
      "        - compactness (perimeter^2 / area - 1.0)\n",
      "        - concavity (severity of concave portions of the contour)\n",
      "        - concave points (number of concave portions of the contour)\n",
      "        - symmetry \n",
      "        - fractal dimension (\"coastline approximation\" - 1)\n",
      "        \n",
      "        The mean, standard error, and \"worst\" or largest (mean of the three\n",
      "        largest values) of these features were computed for each image,\n",
      "        resulting in 30 features.  For instance, field 3 is Mean Radius, field\n",
      "        13 is Radius SE, field 23 is Worst Radius.\n",
      "        \n",
      "        - class:\n",
      "                - WDBC-Malignant\n",
      "                - WDBC-Benign\n",
      "\n",
      "    :Summary Statistics:\n",
      "\n",
      "    ===================================== ======= ========\n",
      "                                           Min     Max\n",
      "    ===================================== ======= ========\n",
      "    radius (mean):                         6.981   28.11\n",
      "    texture (mean):                        9.71    39.28\n",
      "    perimeter (mean):                      43.79   188.5\n",
      "    area (mean):                           143.5   2501.0\n",
      "    smoothness (mean):                     0.053   0.163\n",
      "    compactness (mean):                    0.019   0.345\n",
      "    concavity (mean):                      0.0     0.427\n",
      "    concave points (mean):                 0.0     0.201\n",
      "    symmetry (mean):                       0.106   0.304\n",
      "    fractal dimension (mean):              0.05    0.097\n",
      "    radius (standard error):               0.112   2.873\n",
      "    texture (standard error):              0.36    4.885\n",
      "    perimeter (standard error):            0.757   21.98\n",
      "    area (standard error):                 6.802   542.2\n",
      "    smoothness (standard error):           0.002   0.031\n",
      "    compactness (standard error):          0.002   0.135\n",
      "    concavity (standard error):            0.0     0.396\n",
      "    concave points (standard error):       0.0     0.053\n",
      "    symmetry (standard error):             0.008   0.079\n",
      "    fractal dimension (standard error):    0.001   0.03\n",
      "    radius (worst):                        7.93    36.04\n",
      "    texture (worst):                       12.02   49.54\n",
      "    perimeter (worst):                     50.41   251.2\n",
      "    area (worst):                          185.2   4254.0\n",
      "    smoothness (worst):                    0.071   0.223\n",
      "    compactness (worst):                   0.027   1.058\n",
      "    concavity (worst):                     0.0     1.252\n",
      "    concave points (worst):                0.0     0.291\n",
      "    symmetry (worst):                      0.156   0.664\n",
      "    fractal dimension (worst):             0.055   0.208\n",
      "    ===================================== ======= ========\n",
      "\n",
      "    :Missing Attribute Values: None\n",
      "\n",
      "    :Class Distribution: 212 - Malignant, 357 - Benign\n",
      "\n",
      "    :Creator:  Dr. William H. Wolberg, W. Nick Street, Olvi L. Mangasarian\n",
      "\n",
      "    :Donor: Nick Street\n",
      "\n",
      "    :Date: November, 1995\n",
      "\n",
      "This is a copy of UCI ML Breast Cancer Wisconsin (Diagnostic) datasets.\n",
      "https://goo.gl/U2Uwz2\n",
      "\n",
      "Features are computed from a digitized image of a fine needle\n",
      "aspirate (FNA) of a breast mass.  They describe\n",
      "characteristics of the cell nuclei present in the image.\n",
      "A few of the images can be found at\n",
      "http://www.cs.wisc.edu/~street/images/\n",
      "\n",
      "Separating plane described above was obtained using\n",
      "Multisurface Method-Tree (MSM-T) [K. P. Bennett, \"Decision Tree\n",
      "Construction Via Linear Programming.\" Proceedings of the 4th\n",
      "Midwest Artificial Intelligence and Cognitive Science Society,\n",
      "pp. 97-101, 1992], a classification method which uses linear\n",
      "programming to construct a decision tree.  Relevant features\n",
      "were selected using an exhaustive search in the space of 1-4\n",
      "features and 1-3 separating planes.\n",
      "\n",
      "The actual linear program used to obtain the separating plane\n",
      "in the 3-dimensional space is that described in:\n",
      "[K. P. Bennett and O. L. Mangasarian: \"Robust Linear\n",
      "Programming Discrimination of Two Linearly Inseparable Sets\",\n",
      "Optimization Methods and Software 1, 1992, 23-34].\n",
      "\n",
      "This database is also available through the UW CS ftp server:\n",
      "\n",
      "ftp ftp.cs.wisc.edu\n",
      "cd math-prog/cpo-dataset/machine-learn/WDBC/\n",
      "\n",
      "References\n",
      "----------\n",
      "   - W.N. Street, W.H. Wolberg and O.L. Mangasarian. Nuclear feature extraction \n",
      "     for breast tumor diagnosis. IS&T/SPIE 1993 International Symposium on \n",
      "     Electronic Imaging: Science and Technology, volume 1905, pages 861-870, \n",
      "     San Jose, CA, 1993. \n",
      "   - O.L. Mangasarian, W.N. Street and W.H. Wolberg. Breast cancer diagnosis and \n",
      "     prognosis via linear programming. Operations Research, 43(4), pages 570-577, \n",
      "     July-August 1995.\n",
      "   - W.H. Wolberg, W.N. Street, and O.L. Mangasarian. Machine learning techniques\n",
      "     to diagnose breast cancer from fine-needle aspirates. Cancer Letters 77 (1994) \n",
      "     163-171.\n",
      "\n"
     ]
    }
   ],
   "source": [
    "print(cancer['DESCR'])"
   ]
  },
  {
   "cell_type": "code",
   "execution_count": 56,
   "metadata": {
    "collapsed": false
   },
   "outputs": [
    {
     "data": {
      "text/plain": [
       "array(['mean radius', 'mean texture', 'mean perimeter', 'mean area',\n",
       "       'mean smoothness', 'mean compactness', 'mean concavity',\n",
       "       'mean concave points', 'mean symmetry', 'mean fractal dimension',\n",
       "       'radius error', 'texture error', 'perimeter error', 'area error',\n",
       "       'smoothness error', 'compactness error', 'concavity error',\n",
       "       'concave points error', 'symmetry error', 'fractal dimension error',\n",
       "       'worst radius', 'worst texture', 'worst perimeter', 'worst area',\n",
       "       'worst smoothness', 'worst compactness', 'worst concavity',\n",
       "       'worst concave points', 'worst symmetry', 'worst fractal dimension'], \n",
       "      dtype='<U23')"
      ]
     },
     "execution_count": 56,
     "metadata": {},
     "output_type": "execute_result"
    }
   ],
   "source": [
    "cancer['feature_names']"
   ]
  },
  {
   "cell_type": "markdown",
   "metadata": {},
   "source": [
    "## Reading Data as DataFrame"
   ]
  },
  {
   "cell_type": "code",
   "execution_count": 23,
   "metadata": {
    "collapsed": true
   },
   "outputs": [],
   "source": [
    "df_feat=pd.DataFrame(cancer['data'],columns=cancer['feature_names'])"
   ]
  },
  {
   "cell_type": "code",
   "execution_count": 28,
   "metadata": {
    "collapsed": false
   },
   "outputs": [
    {
     "data": {
      "text/plain": [
       "array([0, 0, 0, 0, 0, 0, 0, 0, 0, 0, 0, 0, 0, 0, 0, 0, 0, 0, 0, 1, 1, 1, 0,\n",
       "       0, 0, 0, 0, 0, 0, 0, 0, 0, 0, 0, 0, 0, 0, 1, 0, 0, 0, 0, 0, 0, 0, 0,\n",
       "       1, 0, 1, 1, 1, 1, 1, 0, 0, 1, 0, 0, 1, 1, 1, 1, 0, 1, 0, 0, 1, 1, 1,\n",
       "       1, 0, 1, 0, 0, 1, 0, 1, 0, 0, 1, 1, 1, 0, 0, 1, 0, 0, 0, 1, 1, 1, 0,\n",
       "       1, 1, 0, 0, 1, 1, 1, 0, 0, 1, 1, 1, 1, 0, 1, 1, 0, 1, 1, 1, 1, 1, 1,\n",
       "       1, 1, 0, 0, 0, 1, 0, 0, 1, 1, 1, 0, 0, 1, 0, 1, 0, 0, 1, 0, 0, 1, 1,\n",
       "       0, 1, 1, 0, 1, 1, 1, 1, 0, 1, 1, 1, 1, 1, 1, 1, 1, 1, 0, 1, 1, 1, 1,\n",
       "       0, 0, 1, 0, 1, 1, 0, 0, 1, 1, 0, 0, 1, 1, 1, 1, 0, 1, 1, 0, 0, 0, 1,\n",
       "       0, 1, 0, 1, 1, 1, 0, 1, 1, 0, 0, 1, 0, 0, 0, 0, 1, 0, 0, 0, 1, 0, 1,\n",
       "       0, 1, 1, 0, 1, 0, 0, 0, 0, 1, 1, 0, 0, 1, 1, 1, 0, 1, 1, 1, 1, 1, 0,\n",
       "       0, 1, 1, 0, 1, 1, 0, 0, 1, 0, 1, 1, 1, 1, 0, 1, 1, 1, 1, 1, 0, 1, 0,\n",
       "       0, 0, 0, 0, 0, 0, 0, 0, 0, 0, 0, 0, 0, 1, 1, 1, 1, 1, 1, 0, 1, 0, 1,\n",
       "       1, 0, 1, 1, 0, 1, 0, 0, 1, 1, 1, 1, 1, 1, 1, 1, 1, 1, 1, 1, 1, 0, 1,\n",
       "       1, 0, 1, 0, 1, 1, 1, 1, 1, 1, 1, 1, 1, 1, 1, 1, 1, 1, 0, 1, 1, 1, 0,\n",
       "       1, 0, 1, 1, 1, 1, 0, 0, 0, 1, 1, 1, 1, 0, 1, 0, 1, 0, 1, 1, 1, 0, 1,\n",
       "       1, 1, 1, 1, 1, 1, 0, 0, 0, 1, 1, 1, 1, 1, 1, 1, 1, 1, 1, 1, 0, 0, 1,\n",
       "       0, 0, 0, 1, 0, 0, 1, 1, 1, 1, 1, 0, 1, 1, 1, 1, 1, 0, 1, 1, 1, 0, 1,\n",
       "       1, 0, 0, 1, 1, 1, 1, 1, 1, 0, 1, 1, 1, 1, 1, 1, 1, 0, 1, 1, 1, 1, 1,\n",
       "       0, 1, 1, 0, 1, 1, 1, 1, 1, 1, 1, 1, 1, 1, 1, 1, 0, 1, 0, 0, 1, 0, 1,\n",
       "       1, 1, 1, 1, 0, 1, 1, 0, 1, 0, 1, 1, 0, 1, 0, 1, 1, 1, 1, 1, 1, 1, 1,\n",
       "       0, 0, 1, 1, 1, 1, 1, 1, 0, 1, 1, 1, 1, 1, 1, 1, 1, 1, 1, 0, 1, 1, 1,\n",
       "       1, 1, 1, 1, 0, 1, 0, 1, 1, 0, 1, 1, 1, 1, 1, 0, 0, 1, 0, 1, 0, 1, 1,\n",
       "       1, 1, 1, 0, 1, 1, 0, 1, 0, 1, 0, 0, 1, 1, 1, 0, 1, 1, 1, 1, 1, 1, 1,\n",
       "       1, 1, 1, 1, 0, 1, 0, 0, 1, 1, 1, 1, 1, 1, 1, 1, 1, 1, 1, 1, 1, 1, 1,\n",
       "       1, 1, 1, 1, 1, 1, 1, 1, 1, 1, 0, 0, 0, 0, 0, 0, 1])"
      ]
     },
     "execution_count": 28,
     "metadata": {},
     "output_type": "execute_result"
    }
   ],
   "source": [
    "cancer['target']"
   ]
  },
  {
   "cell_type": "code",
   "execution_count": 35,
   "metadata": {
    "collapsed": false
   },
   "outputs": [],
   "source": [
    "df_target = pd.DataFrame(cancer['target'],columns=['Cancer'])"
   ]
  },
  {
   "cell_type": "markdown",
   "metadata": {},
   "source": [
    "## Train Test Split"
   ]
  },
  {
   "cell_type": "code",
   "execution_count": 37,
   "metadata": {
    "collapsed": false
   },
   "outputs": [],
   "source": [
    "from sklearn.cross_validation import train_test_split"
   ]
  },
  {
   "cell_type": "code",
   "execution_count": 38,
   "metadata": {
    "collapsed": false
   },
   "outputs": [],
   "source": [
    "X_train, X_test, y_train, y_test = train_test_split(df_feat, np.ravel(df_target), test_size=0.30, random_state=101)"
   ]
  },
  {
   "cell_type": "markdown",
   "metadata": {},
   "source": [
    "# Train the Support Vector Classifier"
   ]
  },
  {
   "cell_type": "code",
   "execution_count": 39,
   "metadata": {
    "collapsed": true
   },
   "outputs": [],
   "source": [
    "from sklearn.svm import SVC"
   ]
  },
  {
   "cell_type": "code",
   "execution_count": 40,
   "metadata": {
    "collapsed": true
   },
   "outputs": [],
   "source": [
    "model = SVC()"
   ]
  },
  {
   "cell_type": "code",
   "execution_count": 41,
   "metadata": {
    "collapsed": false
   },
   "outputs": [
    {
     "data": {
      "text/plain": [
       "SVC(C=1.0, cache_size=200, class_weight=None, coef0=0.0,\n",
       "  decision_function_shape=None, degree=3, gamma='auto', kernel='rbf',\n",
       "  max_iter=-1, probability=False, random_state=None, shrinking=True,\n",
       "  tol=0.001, verbose=False)"
      ]
     },
     "execution_count": 41,
     "metadata": {},
     "output_type": "execute_result"
    }
   ],
   "source": [
    "model.fit(X_train,y_train)"
   ]
  },
  {
   "cell_type": "markdown",
   "metadata": {},
   "source": [
    "## Predictions and Evaluations\n",
    "\n",
    "Predicting using the trained model using Gridsearch to find best parameters for C & Gamma"
   ]
  },
  {
   "cell_type": "code",
   "execution_count": 42,
   "metadata": {
    "collapsed": false
   },
   "outputs": [],
   "source": [
    "predictions = model.predict(X_test)"
   ]
  },
  {
   "cell_type": "code",
   "execution_count": 43,
   "metadata": {
    "collapsed": true
   },
   "outputs": [],
   "source": [
    "from sklearn.metrics import classification_report,confusion_matrix"
   ]
  },
  {
   "cell_type": "markdown",
   "metadata": {},
   "source": [
    "# Gridsearch "
   ]
  },
  {
   "cell_type": "code",
   "execution_count": 44,
   "metadata": {
    "collapsed": true
   },
   "outputs": [],
   "source": [
    "param_grid = {'C': [0.1,1, 10, 100, 1000], 'gamma': [1,0.1,0.01,0.001,0.0001], 'kernel': ['rbf']} "
   ]
  },
  {
   "cell_type": "code",
   "execution_count": 50,
   "metadata": {
    "collapsed": false
   },
   "outputs": [],
   "source": [
    "from sklearn.grid_search import GridSearchCV"
   ]
  },
  {
   "cell_type": "code",
   "execution_count": 51,
   "metadata": {
    "collapsed": true
   },
   "outputs": [],
   "source": [
    "grid = GridSearchCV(SVC(),param_grid,refit=True,verbose=3)"
   ]
  },
  {
   "cell_type": "code",
   "execution_count": 52,
   "metadata": {
    "collapsed": false
   },
   "outputs": [
    {
     "name": "stdout",
     "output_type": "stream",
     "text": [
      "Fitting 3 folds for each of 25 candidates, totalling 75 fits\n",
      "[CV] kernel=rbf, C=0.1, gamma=1 ......................................\n",
      "[CV] ............. kernel=rbf, C=0.1, gamma=1, score=0.631579 -   0.0s\n",
      "[CV] kernel=rbf, C=0.1, gamma=1 ......................................\n",
      "[CV] ............. kernel=rbf, C=0.1, gamma=1, score=0.631579 -   0.0s\n",
      "[CV] kernel=rbf, C=0.1, gamma=1 ......................................\n",
      "[CV] ............. kernel=rbf, C=0.1, gamma=1, score=0.636364 -   0.0s\n",
      "[CV] kernel=rbf, C=0.1, gamma=0.1 ....................................\n",
      "[CV] ........... kernel=rbf, C=0.1, gamma=0.1, score=0.631579 -   0.0s\n",
      "[CV] kernel=rbf, C=0.1, gamma=0.1 ....................................\n",
      "[CV] ........... kernel=rbf, C=0.1, gamma=0.1, score=0.631579 -   0.0s\n",
      "[CV] kernel=rbf, C=0.1, gamma=0.1 ....................................\n",
      "[CV] ........... kernel=rbf, C=0.1, gamma=0.1, score=0.636364 -   0.0s\n",
      "[CV] kernel=rbf, C=0.1, gamma=0.01 ...................................\n",
      "[CV] .......... kernel=rbf, C=0.1, gamma=0.01, score=0.631579 -   0.0s\n",
      "[CV] kernel=rbf, C=0.1, gamma=0.01 ...................................\n",
      "[CV] .......... kernel=rbf, C=0.1, gamma=0.01, score=0.631579 -   0.0s\n",
      "[CV] kernel=rbf, C=0.1, gamma=0.01 ...................................\n",
      "[CV] .......... kernel=rbf, C=0.1, gamma=0.01, score=0.636364 -   0.0s\n",
      "[CV] kernel=rbf, C=0.1, gamma=0.001 ..................................\n",
      "[CV] ......... kernel=rbf, C=0.1, gamma=0.001, score=0.631579 -   0.0s\n",
      "[CV] kernel=rbf, C=0.1, gamma=0.001 ..................................\n",
      "[CV] ......... kernel=rbf, C=0.1, gamma=0.001, score=0.631579 -   0.0s\n",
      "[CV] kernel=rbf, C=0.1, gamma=0.001 ..................................\n",
      "[CV] ......... kernel=rbf, C=0.1, gamma=0.001, score=0.636364 -   0.0s\n",
      "[CV] kernel=rbf, C=0.1, gamma=0.0001 .................................\n",
      "[CV] ........ kernel=rbf, C=0.1, gamma=0.0001, score=0.902256 -   0.0s\n",
      "[CV] kernel=rbf, C=0.1, gamma=0.0001 .................................\n",
      "[CV] ........ kernel=rbf, C=0.1, gamma=0.0001, score=0.962406 -   0.0s\n",
      "[CV] kernel=rbf, C=0.1, gamma=0.0001 .................................\n",
      "[CV] ........ kernel=rbf, C=0.1, gamma=0.0001, score=0.916667 -   0.0s\n",
      "[CV] kernel=rbf, C=1, gamma=1 ........................................\n",
      "[CV] ............... kernel=rbf, C=1, gamma=1, score=0.631579 -   0.0s\n",
      "[CV] kernel=rbf, C=1, gamma=1 ........................................\n",
      "[CV] ............... kernel=rbf, C=1, gamma=1, score=0.631579 -   0.0s\n",
      "[CV] kernel=rbf, C=1, gamma=1 ........................................\n",
      "[CV] ............... kernel=rbf, C=1, gamma=1, score=0.636364 -   0.0s\n",
      "[CV] kernel=rbf, C=1, gamma=0.1 ......................................\n",
      "[CV] ............. kernel=rbf, C=1, gamma=0.1, score=0.631579 -   0.0s\n",
      "[CV] kernel=rbf, C=1, gamma=0.1 ......................................\n",
      "[CV] ............. kernel=rbf, C=1, gamma=0.1, score=0.631579 -   0.0s\n",
      "[CV] kernel=rbf, C=1, gamma=0.1 ......................................\n",
      "[CV] ............. kernel=rbf, C=1, gamma=0.1, score=0.636364 -   0.0s\n",
      "[CV] kernel=rbf, C=1, gamma=0.01 .....................................\n",
      "[CV] ............ kernel=rbf, C=1, gamma=0.01, score=0.631579 -   0.0s\n",
      "[CV] kernel=rbf, C=1, gamma=0.01 .....................................\n",
      "[CV] ............ kernel=rbf, C=1, gamma=0.01, score=0.631579 -   0.0s\n",
      "[CV] kernel=rbf, C=1, gamma=0.01 .....................................\n",
      "[CV] ............ kernel=rbf, C=1, gamma=0.01, score=0.636364 -   0.0s\n",
      "[CV] kernel=rbf, C=1, gamma=0.001 ....................................\n",
      "[CV] ........... kernel=rbf, C=1, gamma=0.001, score=0.902256 -   0.0s\n",
      "[CV] kernel=rbf, C=1, gamma=0.001 ....................................\n",
      "[CV] ........... kernel=rbf, C=1, gamma=0.001, score=0.939850 -   0.0s\n",
      "[CV] kernel=rbf, C=1, gamma=0.001 ....................................\n",
      "[CV] ........... kernel=rbf, C=1, gamma=0.001, score=0.954545 -   0.0s\n",
      "[CV] kernel=rbf, C=1, gamma=0.0001 ...................................\n",
      "[CV] .......... kernel=rbf, C=1, gamma=0.0001, score=0.939850 -   0.0s\n",
      "[CV] kernel=rbf, C=1, gamma=0.0001 ...................................\n",
      "[CV] .......... kernel=rbf, C=1, gamma=0.0001, score=0.969925 -   0.0s\n",
      "[CV] kernel=rbf, C=1, gamma=0.0001 ...................................\n",
      "[CV] .......... kernel=rbf, C=1, gamma=0.0001, score=0.946970 -   0.0s\n",
      "[CV] kernel=rbf, C=10, gamma=1 .......................................\n",
      "[CV] .............. kernel=rbf, C=10, gamma=1, score=0.631579 -   0.0s\n",
      "[CV] kernel=rbf, C=10, gamma=1 .......................................\n",
      "[CV] .............. kernel=rbf, C=10, gamma=1, score=0.631579 -   0.0s\n",
      "[CV] kernel=rbf, C=10, gamma=1 .......................................\n",
      "[CV] .............. kernel=rbf, C=10, gamma=1, score=0.636364 -   0.0s\n",
      "[CV] kernel=rbf, C=10, gamma=0.1 .....................................\n",
      "[CV] ............ kernel=rbf, C=10, gamma=0.1, score=0.631579 -   0.0s\n",
      "[CV] kernel=rbf, C=10, gamma=0.1 .....................................\n",
      "[CV] ............ kernel=rbf, C=10, gamma=0.1, score=0.631579 -   0.0s\n",
      "[CV] kernel=rbf, C=10, gamma=0.1 .....................................\n",
      "[CV] ............ kernel=rbf, C=10, gamma=0.1, score=0.636364 -   0.0s\n",
      "[CV] kernel=rbf, C=10, gamma=0.01 ....................................\n",
      "[CV] ........... kernel=rbf, C=10, gamma=0.01, score=0.631579 -   0.0s\n",
      "[CV] kernel=rbf, C=10, gamma=0.01 ....................................\n",
      "[CV] ........... kernel=rbf, C=10, gamma=0.01, score=0.631579 -   0.0s\n",
      "[CV] kernel=rbf, C=10, gamma=0.01 ....................................\n",
      "[CV] ........... kernel=rbf, C=10, gamma=0.01, score=0.636364 -   0.0s\n",
      "[CV] kernel=rbf, C=10, gamma=0.001 ...................................\n",
      "[CV] .......... kernel=rbf, C=10, gamma=0.001, score=0.894737 -   0.0s\n",
      "[CV] kernel=rbf, C=10, gamma=0.001 ...................................\n",
      "[CV] .......... kernel=rbf, C=10, gamma=0.001, score=0.932331 -   0.0s\n",
      "[CV] kernel=rbf, C=10, gamma=0.001 ...................................\n"
     ]
    },
    {
     "name": "stderr",
     "output_type": "stream",
     "text": [
      "[Parallel(n_jobs=1)]: Done  31 tasks       | elapsed:    0.4s\n"
     ]
    },
    {
     "name": "stdout",
     "output_type": "stream",
     "text": [
      "[CV] .......... kernel=rbf, C=10, gamma=0.001, score=0.916667 -   0.0s\n",
      "[CV] kernel=rbf, C=10, gamma=0.0001 ..................................\n",
      "[CV] ......... kernel=rbf, C=10, gamma=0.0001, score=0.932331 -   0.0s\n",
      "[CV] kernel=rbf, C=10, gamma=0.0001 ..................................\n",
      "[CV] ......... kernel=rbf, C=10, gamma=0.0001, score=0.969925 -   0.0s\n",
      "[CV] kernel=rbf, C=10, gamma=0.0001 ..................................\n",
      "[CV] ......... kernel=rbf, C=10, gamma=0.0001, score=0.962121 -   0.0s\n",
      "[CV] kernel=rbf, C=100, gamma=1 ......................................\n",
      "[CV] ............. kernel=rbf, C=100, gamma=1, score=0.631579 -   0.0s\n",
      "[CV] kernel=rbf, C=100, gamma=1 ......................................\n",
      "[CV] ............. kernel=rbf, C=100, gamma=1, score=0.631579 -   0.0s\n",
      "[CV] kernel=rbf, C=100, gamma=1 ......................................\n",
      "[CV] ............. kernel=rbf, C=100, gamma=1, score=0.636364 -   0.0s\n",
      "[CV] kernel=rbf, C=100, gamma=0.1 ....................................\n",
      "[CV] ........... kernel=rbf, C=100, gamma=0.1, score=0.631579 -   0.0s\n",
      "[CV] kernel=rbf, C=100, gamma=0.1 ....................................\n",
      "[CV] ........... kernel=rbf, C=100, gamma=0.1, score=0.631579 -   0.0s\n",
      "[CV] kernel=rbf, C=100, gamma=0.1 ....................................\n",
      "[CV] ........... kernel=rbf, C=100, gamma=0.1, score=0.636364 -   0.0s\n",
      "[CV] kernel=rbf, C=100, gamma=0.01 ...................................\n",
      "[CV] .......... kernel=rbf, C=100, gamma=0.01, score=0.631579 -   0.0s\n",
      "[CV] kernel=rbf, C=100, gamma=0.01 ...................................\n",
      "[CV] .......... kernel=rbf, C=100, gamma=0.01, score=0.631579 -   0.0s\n",
      "[CV] kernel=rbf, C=100, gamma=0.01 ...................................\n",
      "[CV] .......... kernel=rbf, C=100, gamma=0.01, score=0.636364 -   0.0s\n",
      "[CV] kernel=rbf, C=100, gamma=0.001 ..................................\n",
      "[CV] ......... kernel=rbf, C=100, gamma=0.001, score=0.894737 -   0.0s\n",
      "[CV] kernel=rbf, C=100, gamma=0.001 ..................................\n",
      "[CV] ......... kernel=rbf, C=100, gamma=0.001, score=0.932331 -   0.0s\n",
      "[CV] kernel=rbf, C=100, gamma=0.001 ..................................\n",
      "[CV] ......... kernel=rbf, C=100, gamma=0.001, score=0.916667 -   0.0s\n",
      "[CV] kernel=rbf, C=100, gamma=0.0001 .................................\n",
      "[CV] ........ kernel=rbf, C=100, gamma=0.0001, score=0.917293 -   0.0s\n",
      "[CV] kernel=rbf, C=100, gamma=0.0001 .................................\n",
      "[CV] ........ kernel=rbf, C=100, gamma=0.0001, score=0.977444 -   0.0s\n",
      "[CV] kernel=rbf, C=100, gamma=0.0001 .................................\n",
      "[CV] ........ kernel=rbf, C=100, gamma=0.0001, score=0.939394 -   0.0s\n",
      "[CV] kernel=rbf, C=1000, gamma=1 .....................................\n",
      "[CV] ............ kernel=rbf, C=1000, gamma=1, score=0.631579 -   0.0s\n",
      "[CV] kernel=rbf, C=1000, gamma=1 .....................................\n",
      "[CV] ............ kernel=rbf, C=1000, gamma=1, score=0.631579 -   0.0s\n",
      "[CV] kernel=rbf, C=1000, gamma=1 .....................................\n",
      "[CV] ............ kernel=rbf, C=1000, gamma=1, score=0.636364 -   0.0s\n",
      "[CV] kernel=rbf, C=1000, gamma=0.1 ...................................\n",
      "[CV] .......... kernel=rbf, C=1000, gamma=0.1, score=0.631579 -   0.0s\n",
      "[CV] kernel=rbf, C=1000, gamma=0.1 ...................................\n",
      "[CV] .......... kernel=rbf, C=1000, gamma=0.1, score=0.631579 -   0.0s\n",
      "[CV] kernel=rbf, C=1000, gamma=0.1 ...................................\n",
      "[CV] .......... kernel=rbf, C=1000, gamma=0.1, score=0.636364 -   0.0s\n",
      "[CV] kernel=rbf, C=1000, gamma=0.01 ..................................\n",
      "[CV] ......... kernel=rbf, C=1000, gamma=0.01, score=0.631579 -   0.0s\n",
      "[CV] kernel=rbf, C=1000, gamma=0.01 ..................................\n",
      "[CV] ......... kernel=rbf, C=1000, gamma=0.01, score=0.631579 -   0.0s\n",
      "[CV] kernel=rbf, C=1000, gamma=0.01 ..................................\n",
      "[CV] ......... kernel=rbf, C=1000, gamma=0.01, score=0.636364 -   0.0s\n",
      "[CV] kernel=rbf, C=1000, gamma=0.001 .................................\n",
      "[CV] ........ kernel=rbf, C=1000, gamma=0.001, score=0.894737 -   0.0s\n",
      "[CV] kernel=rbf, C=1000, gamma=0.001 .................................\n",
      "[CV] ........ kernel=rbf, C=1000, gamma=0.001, score=0.932331 -   0.0s\n",
      "[CV] kernel=rbf, C=1000, gamma=0.001 .................................\n",
      "[CV] ........ kernel=rbf, C=1000, gamma=0.001, score=0.916667 -   0.0s\n",
      "[CV] kernel=rbf, C=1000, gamma=0.0001 ................................\n",
      "[CV] ....... kernel=rbf, C=1000, gamma=0.0001, score=0.909774 -   0.0s\n",
      "[CV] kernel=rbf, C=1000, gamma=0.0001 ................................\n",
      "[CV] ....... kernel=rbf, C=1000, gamma=0.0001, score=0.969925 -   0.0s\n",
      "[CV] kernel=rbf, C=1000, gamma=0.0001 ................................\n",
      "[CV] ....... kernel=rbf, C=1000, gamma=0.0001, score=0.931818 -   0.0s\n"
     ]
    },
    {
     "name": "stderr",
     "output_type": "stream",
     "text": [
      "[Parallel(n_jobs=1)]: Done  75 out of  75 | elapsed:    1.0s finished\n"
     ]
    },
    {
     "data": {
      "text/plain": [
       "GridSearchCV(cv=None, error_score='raise',\n",
       "       estimator=SVC(C=1.0, cache_size=200, class_weight=None, coef0=0.0,\n",
       "  decision_function_shape=None, degree=3, gamma='auto', kernel='rbf',\n",
       "  max_iter=-1, probability=False, random_state=None, shrinking=True,\n",
       "  tol=0.001, verbose=False),\n",
       "       fit_params={}, iid=True, n_jobs=1,\n",
       "       param_grid={'kernel': ['rbf'], 'C': [0.1, 1, 10, 100, 1000], 'gamma': [1, 0.1, 0.01, 0.001, 0.0001]},\n",
       "       pre_dispatch='2*n_jobs', refit=True, scoring=None, verbose=3)"
      ]
     },
     "execution_count": 52,
     "metadata": {},
     "output_type": "execute_result"
    }
   ],
   "source": [
    "grid.fit(X_train,y_train)"
   ]
  },
  {
   "cell_type": "code",
   "execution_count": 53,
   "metadata": {
    "collapsed": false
   },
   "outputs": [
    {
     "data": {
      "text/plain": [
       "{'C': 10, 'gamma': 0.0001, 'kernel': 'rbf'}"
      ]
     },
     "execution_count": 53,
     "metadata": {},
     "output_type": "execute_result"
    }
   ],
   "source": [
    "grid.best_params_"
   ]
  },
  {
   "cell_type": "code",
   "execution_count": 54,
   "metadata": {
    "collapsed": false
   },
   "outputs": [
    {
     "data": {
      "text/plain": [
       "SVC(C=10, cache_size=200, class_weight=None, coef0=0.0,\n",
       "  decision_function_shape=None, degree=3, gamma=0.0001, kernel='rbf',\n",
       "  max_iter=-1, probability=False, random_state=None, shrinking=True,\n",
       "  tol=0.001, verbose=False)"
      ]
     },
     "execution_count": 54,
     "metadata": {},
     "output_type": "execute_result"
    }
   ],
   "source": [
    "grid.best_estimator_"
   ]
  },
  {
   "cell_type": "code",
   "execution_count": 55,
   "metadata": {
    "collapsed": false
   },
   "outputs": [],
   "source": [
    "grid_predictions = grid.predict(X_test)"
   ]
  },
  {
   "cell_type": "code",
   "execution_count": 56,
   "metadata": {
    "collapsed": false
   },
   "outputs": [
    {
     "name": "stdout",
     "output_type": "stream",
     "text": [
      "[[ 60   6]\n",
      " [  3 102]]\n"
     ]
    }
   ],
   "source": [
    "print(confusion_matrix(y_test,grid_predictions))"
   ]
  },
  {
   "cell_type": "code",
   "execution_count": 57,
   "metadata": {
    "collapsed": false
   },
   "outputs": [
    {
     "name": "stdout",
     "output_type": "stream",
     "text": [
      "             precision    recall  f1-score   support\n",
      "\n",
      "          0       0.95      0.91      0.93        66\n",
      "          1       0.94      0.97      0.96       105\n",
      "\n",
      "avg / total       0.95      0.95      0.95       171\n",
      "\n"
     ]
    }
   ],
   "source": [
    "print(classification_report(y_test,grid_predictions))"
   ]
  }
 ],
 "metadata": {
  "kernelspec": {
   "display_name": "Python [Root]",
   "language": "python",
   "name": "Python [Root]"
  },
  "language_info": {
   "codemirror_mode": {
    "name": "ipython",
    "version": 2
   },
   "file_extension": ".py",
   "mimetype": "text/x-python",
   "name": "python",
   "nbconvert_exporter": "python",
   "pygments_lexer": "ipython2",
   "version": "2.7.12"
  }
 },
 "nbformat": 4,
 "nbformat_minor": 0
}
